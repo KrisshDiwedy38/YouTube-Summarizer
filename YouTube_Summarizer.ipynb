{
 "cells": [
  {
   "cell_type": "code",
   "execution_count": 27,
   "id": "19387882-c484-42fb-9264-6dd1f98e2521",
   "metadata": {},
   "outputs": [
    {
     "name": "stdout",
     "output_type": "stream",
     "text": [
      "Note: you may need to restart the kernel to use updated packages.\n"
     ]
    },
    {
     "name": "stderr",
     "output_type": "stream",
     "text": [
      "ERROR: Could not find a version that satisfies the requirement tenserflow==2.2 (from versions: none)\n",
      "ERROR: No matching distribution found for tenserflow==2.2\n"
     ]
    }
   ],
   "source": [
    "pip install tenserflow==2"
   ]
  },
  {
   "cell_type": "code",
   "execution_count": 23,
   "id": "37abec1a-1350-4946-85a8-fd8f1582a216",
   "metadata": {},
   "outputs": [
    {
     "name": "stderr",
     "output_type": "stream",
     "text": [
      "None of PyTorch, TensorFlow >= 2.0, or Flax have been found. Models won't be available and only tokenizers, configuration and file/data utilities can be used.\n"
     ]
    }
   ],
   "source": [
    "from transformers import pipeline"
   ]
  },
  {
   "cell_type": "code",
   "execution_count": 17,
   "id": "5f33c66d-87d9-4a18-a0ca-2844bd6970a2",
   "metadata": {},
   "outputs": [],
   "source": [
    "from youtube_transcript_api import YouTubeTranscriptApi"
   ]
  },
  {
   "cell_type": "code",
   "execution_count": 18,
   "id": "251c1196-281b-4d6c-8ce1-0617e6346321",
   "metadata": {},
   "outputs": [],
   "source": [
    "def get_video_summary(video_transcript):\n",
    "    summarizer = pipeline(\"summarization\", model=\"facebook/bart-large-cnn\")\n",
    "    summary = summarizer(video_transcipt, max_length = 200, min_length = 40)\n",
    "    return summary"
   ]
  },
  {
   "cell_type": "code",
   "execution_count": 19,
   "id": "206ad561-8edc-43cf-8a34-f28b12dab856",
   "metadata": {},
   "outputs": [],
   "source": [
    "def get_video_transcript(video_id):\n",
    "    transcript_list = YouTubeTranscriptApi.get_transcript(video_id)\n",
    "    transcript_text = ' '.join(transcript['text'] for transcript in transcript_list)\n",
    "    return transcript_text"
   ]
  },
  {
   "cell_type": "code",
   "execution_count": 20,
   "id": "53120d8d-4bf1-4e78-b7fc-0ead87d3c250",
   "metadata": {},
   "outputs": [],
   "source": [
    "def get_video_id(video_link):\n",
    "   return video_link"
   ]
  },
  {
   "cell_type": "code",
   "execution_count": 21,
   "id": "96aaacc4-4d11-4a95-8ebe-c0e0d7cab10a",
   "metadata": {},
   "outputs": [],
   "source": [
    "def main():\n",
    "   video_link = 'wxqS8WrBA58'\n",
    "   video_id = get_video_id(video_link)\n",
    "   video_transcript = get_video_transcript(vxideo_id)\n",
    "   video_sumamry = get_video_summary(video_transcript)\n",
    "   return video_sumamry"
   ]
  },
  {
   "cell_type": "code",
   "execution_count": 22,
   "id": "98a1e1ce-4199-4d1d-bf0b-5b79308c2f15",
   "metadata": {},
   "outputs": [
    {
     "ename": "NameError",
     "evalue": "name 'pipeline' is not defined",
     "output_type": "error",
     "traceback": [
      "\u001b[1;31m---------------------------------------------------------------------------\u001b[0m",
      "\u001b[1;31mNameError\u001b[0m                                 Traceback (most recent call last)",
      "Cell \u001b[1;32mIn[22], line 2\u001b[0m\n\u001b[0;32m      1\u001b[0m \u001b[38;5;28;01mif\u001b[39;00m \u001b[38;5;18m__name__\u001b[39m \u001b[38;5;241m==\u001b[39m \u001b[38;5;124m\"\u001b[39m\u001b[38;5;124m__main__\u001b[39m\u001b[38;5;124m\"\u001b[39m:\n\u001b[1;32m----> 2\u001b[0m    \u001b[38;5;28mprint\u001b[39m(main())\n",
      "Cell \u001b[1;32mIn[21], line 5\u001b[0m, in \u001b[0;36mmain\u001b[1;34m()\u001b[0m\n\u001b[0;32m      3\u001b[0m video_id \u001b[38;5;241m=\u001b[39m get_video_id(video_link)\n\u001b[0;32m      4\u001b[0m video_transcript \u001b[38;5;241m=\u001b[39m get_video_transcript(video_id)\n\u001b[1;32m----> 5\u001b[0m video_sumamry \u001b[38;5;241m=\u001b[39m get_video_summary(video_transcript)\n\u001b[0;32m      6\u001b[0m \u001b[38;5;28;01mreturn\u001b[39;00m video_sumamry\n",
      "Cell \u001b[1;32mIn[18], line 2\u001b[0m, in \u001b[0;36mget_video_summary\u001b[1;34m(video_transcript)\u001b[0m\n\u001b[0;32m      1\u001b[0m \u001b[38;5;28;01mdef\u001b[39;00m \u001b[38;5;21mget_video_summary\u001b[39m(video_transcript):\n\u001b[1;32m----> 2\u001b[0m     summarizer \u001b[38;5;241m=\u001b[39m pipeline(\u001b[38;5;124m\"\u001b[39m\u001b[38;5;124msummarization\u001b[39m\u001b[38;5;124m\"\u001b[39m, model\u001b[38;5;241m=\u001b[39m\u001b[38;5;124m\"\u001b[39m\u001b[38;5;124mfacebook/bart-large-cnn\u001b[39m\u001b[38;5;124m\"\u001b[39m)\n\u001b[0;32m      3\u001b[0m     summary \u001b[38;5;241m=\u001b[39m summarizer(video_transcipt, max_length \u001b[38;5;241m=\u001b[39m \u001b[38;5;241m200\u001b[39m, min_length \u001b[38;5;241m=\u001b[39m \u001b[38;5;241m40\u001b[39m)\n\u001b[0;32m      4\u001b[0m     \u001b[38;5;28;01mreturn\u001b[39;00m summary\n",
      "\u001b[1;31mNameError\u001b[0m: name 'pipeline' is not defined"
     ]
    }
   ],
   "source": [
    "if __name__ == \"__main__\":\n",
    "   print(main())"
   ]
  },
  {
   "cell_type": "code",
   "execution_count": null,
   "id": "212d6406-d582-49ce-a2eb-535c4b902302",
   "metadata": {},
   "outputs": [],
   "source": []
  }
 ],
 "metadata": {
  "kernelspec": {
   "display_name": "Python 3 (ipykernel)",
   "language": "python",
   "name": "python3"
  },
  "language_info": {
   "codemirror_mode": {
    "name": "ipython",
    "version": 3
   },
   "file_extension": ".py",
   "mimetype": "text/x-python",
   "name": "python",
   "nbconvert_exporter": "python",
   "pygments_lexer": "ipython3",
   "version": "3.11.7"
  }
 },
 "nbformat": 4,
 "nbformat_minor": 5
}
