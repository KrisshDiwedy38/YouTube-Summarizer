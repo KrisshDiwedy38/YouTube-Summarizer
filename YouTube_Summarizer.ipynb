{
 "cells": [
  {
   "cell_type": "code",
   "execution_count": 56,
   "id": "5f33c66d-87d9-4a18-a0ca-2844bd6970a2",
   "metadata": {},
   "outputs": [],
   "source": [
    "from youtube_transcript_api import YouTubeTranscriptApi"
   ]
  },
  {
   "cell_type": "code",
   "execution_count": 57,
   "id": "251c1196-281b-4d6c-8ce1-0617e6346321",
   "metadata": {},
   "outputs": [],
   "source": [
    "def get_video_summary(video_transcript):\n",
    "   return video_transcript"
   ]
  },
  {
   "cell_type": "code",
   "execution_count": 66,
   "id": "206ad561-8edc-43cf-8a34-f28b12dab856",
   "metadata": {},
   "outputs": [],
   "source": [
    "def get_video_transcript(video_id):\n",
    "    transcript_list = YouTubeTranscriptApi.get_transcript(video_id)\n",
    "    transcript_text = ' '.join(transcript['text'] for transcript in transcript_list)\n",
    "    return transcript_text"
   ]
  },
  {
   "cell_type": "code",
   "execution_count": 67,
   "id": "53120d8d-4bf1-4e78-b7fc-0ead87d3c250",
   "metadata": {},
   "outputs": [],
   "source": [
    "def get_video_id(video_link):\n",
    "   return video_link"
   ]
  },
  {
   "cell_type": "code",
   "execution_count": 68,
   "id": "96aaacc4-4d11-4a95-8ebe-c0e0d7cab10a",
   "metadata": {},
   "outputs": [],
   "source": [
    "def main():\n",
    "   video_link = 'wxqS8WrBA58'\n",
    "   video_id = get_video_id(video_link)\n",
    "   video_transcript = get_video_transcript(video_id)\n",
    "   video_sumamry = get_video_summary(video_transcript)\n",
    "   return video_sumamry"
   ]
  },
  {
   "cell_type": "code",
   "execution_count": 69,
   "id": "98a1e1ce-4199-4d1d-bf0b-5b79308c2f15",
   "metadata": {},
   "outputs": [
    {
     "name": "stdout",
     "output_type": "stream",
     "text": [
      "[Music] what's the difference between dressy casual and business casual both mean leave your cargo shorts and flipflops at home I don't own cargo shirts I don't own flip cops anything else don't wear your black suit it makes you look like a mortician Lord my path is gone [Music] astray I'm just trying to find my way now that you have gone away why'd you ask if you was having money problems I'm just trying to find my way that make you nervous they're an escaped convict trained by mob accountants be clients or drug cartels money launderers is that a yes Ray King has been murdered do you like Puzzles Mr Wolf I need your help to finish the job he started what are you doing waiting for you to finish so you can do what I need to do you to [Music] see what do you want hello it's me your brother you can't tell from the tone of my voice that I know it's you can you be in Los Angeles California in 24 hours goodbye braxon all those things was your brother up to speed on the case I fed huh I need to know who Ray King was meeting with let me do the talking I say more than I thought I work for a government agency I don't torture people you didn't why would Ray meet with someone who killed all these people she didn't kill all those people how do you know that no you often confest the Capal of murder I actually didn't say anything this is it huh living a lunchbox it's quite comfortable spent years looking for you do you not miss me because of me or is it your condition I'm just me I have made a great mistake go over the plan again plan you get these ideas in your head good for you let's get ourselves killed feel are you ready yeah I'm way\n"
     ]
    }
   ],
   "source": [
    "if __name__ == \"__main__\":\n",
    "   print(main())"
   ]
  },
  {
   "cell_type": "code",
   "execution_count": null,
   "id": "212d6406-d582-49ce-a2eb-535c4b902302",
   "metadata": {},
   "outputs": [],
   "source": []
  }
 ],
 "metadata": {
  "kernelspec": {
   "display_name": "Python 3 (ipykernel)",
   "language": "python",
   "name": "python3"
  },
  "language_info": {
   "codemirror_mode": {
    "name": "ipython",
    "version": 3
   },
   "file_extension": ".py",
   "mimetype": "text/x-python",
   "name": "python",
   "nbconvert_exporter": "python",
   "pygments_lexer": "ipython3",
   "version": "3.11.7"
  }
 },
 "nbformat": 4,
 "nbformat_minor": 5
}
