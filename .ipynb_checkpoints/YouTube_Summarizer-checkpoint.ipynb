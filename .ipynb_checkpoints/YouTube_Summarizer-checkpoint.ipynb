{
 "cells": [
  {
   "cell_type": "code",
   "execution_count": 28,
   "id": "5f33c66d-87d9-4a18-a0ca-2844bd6970a2",
   "metadata": {},
   "outputs": [],
   "source": [
    "from youtube_transcript_api import YouTubeTranscriptApi"
   ]
  },
  {
   "cell_type": "code",
   "execution_count": 29,
   "id": "9b821136-47d1-495d-8559-981256064f91",
   "metadata": {},
   "outputs": [],
   "source": [
    "transcript_list = YouTubeTranscriptApi.get_transcript('AopzVGO2HK8')"
   ]
  },
  {
   "cell_type": "code",
   "execution_count": null,
   "id": "251c1196-281b-4d6c-8ce1-0617e6346321",
   "metadata": {},
   "outputs": [],
   "source": [
    "def get_video_summary(video_transcript):\n",
    "   pass"
   ]
  },
  {
   "cell_type": "code",
   "execution_count": null,
   "id": "206ad561-8edc-43cf-8a34-f28b12dab856",
   "metadata": {},
   "outputs": [],
   "source": [
    "def get_video_transcript(video_id):\n",
    "    transcript_list = YouTubeTranscriptApi.get_transcript(video_id)\n",
    "    "
   ]
  },
  {
   "cell_type": "code",
   "execution_count": null,
   "id": "53120d8d-4bf1-4e78-b7fc-0ead87d3c250",
   "metadata": {},
   "outputs": [],
   "source": [
    "def get_video_id(video_link):\n",
    "   return video_link"
   ]
  },
  {
   "cell_type": "code",
   "execution_count": null,
   "id": "96aaacc4-4d11-4a95-8ebe-c0e0d7cab10a",
   "metadata": {},
   "outputs": [],
   "source": [
    "def main():\n",
    "   video_link = 'AopzVGO2HK8'\n",
    "   video_id = get_video_id(video_link)\n",
    "   video_transcript = get_video_transcript(video_id)\n",
    "   video_sumamry = get_video_summary(video_transcript)\n",
    "   return video_sumamry"
   ]
  },
  {
   "cell_type": "code",
   "execution_count": 32,
   "id": "98a1e1ce-4199-4d1d-bf0b-5b79308c2f15",
   "metadata": {},
   "outputs": [
    {
     "ename": "NameError",
     "evalue": "name 'main' is not defined",
     "output_type": "error",
     "traceback": [
      "\u001b[1;31m---------------------------------------------------------------------------\u001b[0m",
      "\u001b[1;31mNameError\u001b[0m                                 Traceback (most recent call last)",
      "Cell \u001b[1;32mIn[32], line 2\u001b[0m\n\u001b[0;32m      1\u001b[0m \u001b[38;5;28;01mif\u001b[39;00m \u001b[38;5;18m__name__\u001b[39m \u001b[38;5;241m==\u001b[39m \u001b[38;5;124m\"\u001b[39m\u001b[38;5;124m__main__\u001b[39m\u001b[38;5;124m\"\u001b[39m:\n\u001b[1;32m----> 2\u001b[0m    main()\n",
      "\u001b[1;31mNameError\u001b[0m: name 'main' is not defined"
     ]
    }
   ],
   "source": [
    "if __name__ == \"__main__\":\n",
    "   main()"
   ]
  },
  {
   "cell_type": "code",
   "execution_count": null,
   "id": "90aba013-ccbc-41d5-9e73-74fd8cd4ebc8",
   "metadata": {},
   "outputs": [],
   "source": []
  }
 ],
 "metadata": {
  "kernelspec": {
   "display_name": "Python 3 (ipykernel)",
   "language": "python",
   "name": "python3"
  },
  "language_info": {
   "codemirror_mode": {
    "name": "ipython",
    "version": 3
   },
   "file_extension": ".py",
   "mimetype": "text/x-python",
   "name": "python",
   "nbconvert_exporter": "python",
   "pygments_lexer": "ipython3",
   "version": "3.11.7"
  }
 },
 "nbformat": 4,
 "nbformat_minor": 5
}
